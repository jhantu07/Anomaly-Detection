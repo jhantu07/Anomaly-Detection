{
 "cells": [
  {
   "cell_type": "markdown",
   "id": "461dcfab",
   "metadata": {},
   "source": [
    "##### 1.I'll develop an anomaly detection model for the given time series data after merging  those in a single dataset named 'all_data.csv' file. We'll use Python to load the data, preprocess it, implement an anomaly detection algorithm, and categorize the anomalies into different types. Then, we'll create some plots to visualize the results. Let's get started!"
   ]
  },
  {
   "cell_type": "code",
   "execution_count": 4,
   "id": "00644ec3",
   "metadata": {},
   "outputs": [],
   "source": [
    "cpu_utilization_1=pd.read_csv('ec2_cpu_utilization_5f5533.csv')\n",
    "cpu_utilization_2=pd.read_csv('ec2_cpu_utilization_24ae8d.csv')\n",
    "cpu_utilization_3=pd.read_csv('ec2_cpu_utilization_53ea38.csv')\n",
    "cpu_utilization_4=pd.read_csv('ec2_cpu_utilization_77c1ca.csv')\n",
    "cpu_utilization_5=pd.read_csv('ec2_cpu_utilization_825cc2.csv')\n",
    "cpu_utilization_6=pd.read_csv('ec2_cpu_utilization_ac20cd.csv')\n",
    "cpu_utilization_7=pd.read_csv('ec2_cpu_utilization_c6585a.csv')\n",
    "cpu_utilization_8=pd.read_csv('ec2_cpu_utilization_fe7f93.csv')\n",
    "cpu_utilization_9=pd.read_csv('rds_cpu_utilization_cc0c53.csv')\n",
    "cpu_utilization_10=pd.read_csv('rds_cpu_utilization_e47b3b.csv')\n",
    "disk_write_bytes_1=pd.read_csv('ec2_disk_write_bytes_1ef3de.csv')\n",
    "disk_write_bytes_2=pd.read_csv('ec2_disk_write_bytes_c0d644.csv')\n",
    "network_in_1=pd.read_csv('ec2_network_in_5abac7.csv')\n",
    "network_in_2=pd.read_csv('ec2_network_in_257a54.csv')\n",
    "network_in_3=pd.read_csv('iio_us-east-1_i-a2eb1cd9_NetworkIn.csv')\n",
    "request_count_1=pd.read_csv('elb_request_count_8c0756.csv')\n",
    "request_count_2=pd.read_csv('elb_request_count_8c0756.csv')"
   ]
  },
  {
   "cell_type": "code",
   "execution_count": 5,
   "id": "3b21c256",
   "metadata": {},
   "outputs": [],
   "source": [
    "nframes = [cpu_utilization_1,\n",
    "cpu_utilization_2,\n",
    "cpu_utilization_3,\n",
    "cpu_utilization_4,\n",
    "cpu_utilization_5,\n",
    "cpu_utilization_6,\n",
    "cpu_utilization_7,\n",
    "cpu_utilization_8,\n",
    "cpu_utilization_9,\n",
    "cpu_utilization_10,\n",
    "disk_write_bytes_1,\n",
    "disk_write_bytes_2,\n",
    "network_in_1,\n",
    "network_in_2,\n",
    "network_in_3,\n",
    "request_count_1,\n",
    "request_count_2]\n",
    "result = pd.concat(nframes)\n",
    "result.to_csv('all_data.csv')"
   ]
  },
  {
   "cell_type": "code",
   "execution_count": 12,
   "id": "cc5a553d",
   "metadata": {},
   "outputs": [
    {
     "name": "stdout",
     "output_type": "stream",
     "text": [
      "   Unnamed: 0            timestamp   value\n",
      "0           0  2014-02-14 14:27:00  51.846\n",
      "1           1  2014-02-14 14:32:00  44.508\n",
      "2           2  2014-02-14 14:37:00  41.244\n",
      "3           3  2014-02-14 14:42:00  48.568\n",
      "4           4  2014-02-14 14:47:00  46.714\n"
     ]
    }
   ],
   "source": [
    "import pandas as pd\n",
    "\n",
    "data = pd.read_csv('full_data.csv')\n",
    "print(data.head())"
   ]
  },
  {
   "cell_type": "code",
   "execution_count": 13,
   "id": "56888dd9",
   "metadata": {},
   "outputs": [
    {
     "data": {
      "text/html": [
       "<div>\n",
       "<style scoped>\n",
       "    .dataframe tbody tr th:only-of-type {\n",
       "        vertical-align: middle;\n",
       "    }\n",
       "\n",
       "    .dataframe tbody tr th {\n",
       "        vertical-align: top;\n",
       "    }\n",
       "\n",
       "    .dataframe thead th {\n",
       "        text-align: right;\n",
       "    }\n",
       "</style>\n",
       "<table border=\"1\" class=\"dataframe\">\n",
       "  <thead>\n",
       "    <tr style=\"text-align: right;\">\n",
       "      <th></th>\n",
       "      <th>Unnamed: 0</th>\n",
       "      <th>value</th>\n",
       "    </tr>\n",
       "    <tr>\n",
       "      <th>timestamp</th>\n",
       "      <th></th>\n",
       "      <th></th>\n",
       "    </tr>\n",
       "  </thead>\n",
       "  <tbody>\n",
       "    <tr>\n",
       "      <th>2013-10-09 16:25:00</th>\n",
       "      <td>0</td>\n",
       "      <td>9926554.0</td>\n",
       "    </tr>\n",
       "    <tr>\n",
       "      <th>2013-10-09 16:30:00</th>\n",
       "      <td>1</td>\n",
       "      <td>50745578.0</td>\n",
       "    </tr>\n",
       "    <tr>\n",
       "      <th>2013-10-09 16:35:00</th>\n",
       "      <td>2</td>\n",
       "      <td>61519397.0</td>\n",
       "    </tr>\n",
       "    <tr>\n",
       "      <th>2013-10-09 16:40:00</th>\n",
       "      <td>3</td>\n",
       "      <td>55996401.0</td>\n",
       "    </tr>\n",
       "    <tr>\n",
       "      <th>2013-10-09 16:45:00</th>\n",
       "      <td>4</td>\n",
       "      <td>40876988.0</td>\n",
       "    </tr>\n",
       "  </tbody>\n",
       "</table>\n",
       "</div>"
      ],
      "text/plain": [
       "                     Unnamed: 0       value\n",
       "timestamp                                  \n",
       "2013-10-09 16:25:00           0   9926554.0\n",
       "2013-10-09 16:30:00           1  50745578.0\n",
       "2013-10-09 16:35:00           2  61519397.0\n",
       "2013-10-09 16:40:00           3  55996401.0\n",
       "2013-10-09 16:45:00           4  40876988.0"
      ]
     },
     "metadata": {},
     "output_type": "display_data"
    },
    {
     "name": "stdout",
     "output_type": "stream",
     "text": [
      "Dataframe info:\n",
      "<class 'pandas.core.frame.DataFrame'>\n",
      "DatetimeIndex: 67151 entries, 2013-10-09 16:25:00 to 2014-04-24 00:39:00\n",
      "Data columns (total 2 columns):\n",
      " #   Column      Non-Null Count  Dtype  \n",
      "---  ------      --------------  -----  \n",
      " 0   Unnamed: 0  67151 non-null  int64  \n",
      " 1   value       67151 non-null  float64\n",
      "dtypes: float64(1), int64(1)\n",
      "memory usage: 1.5 MB\n",
      "None\n"
     ]
    },
    {
     "data": {
      "image/png": "[encoded data removed]",
      "text/plain": [
       "<Figure size 864x432 with 1 Axes>"
      ]
     },
     "metadata": {
      "needs_background": "light"
     },
     "output_type": "display_data"
    }
   ],
   "source": [
    "#importing Libreries\n",
    "import pandas as pd\n",
    "import numpy as np\n",
    "from datetime import datetime\n",
    "import matplotlib.pyplot as plt\n",
    "from statsmodels.tsa.seasonal import seasonal_decompose\n",
    "from sklearn.ensemble import IsolationForest\n",
    "from tqdm import tqdm\n",
    "\n",
    "# Load the data\n",
    "df = pd.read_csv('full_data.csv')\n",
    "\n",
    "# Convert timestamp to datetime\n",
    "df['timestamp'] = pd.to_datetime(df['timestamp'])\n",
    "\n",
    "# Set timestamp as index\n",
    "df.set_index('timestamp', inplace=True)\n",
    "\n",
    "# Sort the index\n",
    "df.sort_index(inplace=True)\n",
    "\n",
    "display(df.head())\n",
    "print(\"Dataframe info:\")\n",
    "print(df.info())\n",
    "\n",
    "# Plot the time series\n",
    "plt.figure(figsize=(12, 6))\n",
    "plt.plot(df.index, df['value'])\n",
    "plt.title('Time Series Data')\n",
    "plt.xlabel('Timestamp')\n",
    "plt.ylabel('Value')\n",
    "plt.xticks(rotation=45)\n",
    "plt.show()\n"
   ]
  },
  {
   "cell_type": "code",
   "execution_count": 7,
   "id": "8e5727fe",
   "metadata": {},
   "outputs": [
    {
     "data": {
      "text/plain": [
       "Text(0, 0.5, 'Value')"
      ]
     },
     "execution_count": 7,
     "metadata": {},
     "output_type": "execute_result"
    },
    {
     "data": {
      "image/png": "[encoded data removed]",
      "text/plain": [
       "<Figure size 432x288 with 1 Axes>"
      ]
     },
     "metadata": {
      "needs_background": "light"
     },
     "output_type": "display_data"
    }
   ],
   "source": [
    "plt.scatter(df.index,df['value'])\n",
    "plt.title('Time Series Data Scatterplot')\n",
    "plt.xlabel('Timestamp')\n",
    "plt.ylabel('Value')"
   ]
  },
  {
   "cell_type": "markdown",
   "id": "17992bc9",
   "metadata": {},
   "source": [
    "##### 2. Now that we have an overview of the data, let's develop our anomaly detection model. We'll use the following approaches:\n",
    "    1.Isolation Forest for general anomaly detection\n",
    "    2.Moving average and standard deviation for detecting temporary spikes\n",
    "    3.Exponential Moving Average (EMA) for detecting gradual drifts\n",
    "    4.Sudden change detection for identifying sudden drops or increases"
   ]
  },
  {
   "cell_type": "code",
   "execution_count": 8,
   "id": "cb5d8b9c",
   "metadata": {},
   "outputs": [],
   "source": [
    "# 1. Isolation Forest for general anomaly detection\n",
    "iso_forest = IsolationForest(contamination=0.01, random_state=42)\n",
    "df['anomaly'] = iso_forest.fit_predict(df[['value']])\n",
    "\n",
    "# 2. Moving average and standard deviation for detecting temporary spikes\n",
    "window = 24  # 6 hours (assuming 15-minute intervals)\n",
    "df['rolling_mean'] = df['value'].rolling(window=window).mean()\n",
    "df['rolling_std'] = df['value'].rolling(window=window).std()\n",
    "df['z_score'] = (df['value'] - df['rolling_mean']) / df['rolling_std']\n",
    "df['spike'] = np.abs(df['z_score']) > 3\n",
    "\n",
    "# 3. Exponential Moving Average (EMA) for detecting gradual drifts\n",
    "ema_short = df['value'].ewm(span=24, adjust=False).mean()  # 6 hours\n",
    "ema_long = df['value'].ewm(span=96, adjust=False).mean()   # 24 hours\n",
    "df['drift'] = np.abs(ema_short - ema_long) > df['rolling_std'] * 2\n",
    "\n",
    "# 4. Sudden change detection for identifying sudden drops or increases\n",
    "df['pct_change'] = df['value'].pct_change()\n",
    "df['sudden_change'] = np.abs(df['pct_change']) > 0.1  # 10% change threshold\n"
   ]
  },
  {
   "cell_type": "markdown",
   "id": "3af1a93e",
   "metadata": {},
   "source": [
    "##### 3.Anomaly Detection and Categorization:\n",
    "    I implemented several techniques to detect and categorize anomalies:\n",
    "\n",
    "    a. Isolation Forest: For general anomaly detection\n",
    "    b. Moving average and standard deviation: To detect temporary spikes\n",
    "    c. Exponential Moving Average (EMA): To identify gradual drifts\n",
    "    d. Percentage change: To detect sudden changes (drops or increases)"
   ]
  },
  {
   "cell_type": "code",
   "execution_count": 9,
   "id": "2a70cfa5",
   "metadata": {},
   "outputs": [
    {
     "data": {
      "image/png": "[encoded data removed]",
      "text/plain": [
       "<Figure size 1080x720 with 1 Axes>"
      ]
     },
     "metadata": {
      "needs_background": "light"
     },
     "output_type": "display_data"
    }
   ],
   "source": [
    "# Categorize anomalies\n",
    "def categorize_anomaly(row):\n",
    "    if row['anomaly'] == -1:\n",
    "        if row['spike']:\n",
    "            return 'Temporary Spike'\n",
    "        elif row['drift']:\n",
    "            return 'Gradual Drift'\n",
    "        elif row['sudden_change']:\n",
    "            return 'Sudden Change'\n",
    "        else:\n",
    "            return 'Other Anomaly'\n",
    "    return 'Normal'\n",
    "\n",
    "df['anomaly_type'] = df.apply(categorize_anomaly, axis=1)\n",
    "\n",
    "# Plot results\n",
    "plt.figure(figsize=(15, 10))\n",
    "plt.scatter(df.index, df['value'], color='blue',label='Normal')\n",
    "plt.scatter(df[df['anomaly_type'] == 'Temporary Spike'].index, \n",
    "            df[df['anomaly_type'] == 'Temporary Spike']['value'], \n",
    "            color='red', label='Temporary Spike')\n",
    "plt.scatter(df[df['anomaly_type'] == 'Gradual Drift'].index, \n",
    "            df[df['anomaly_type'] == 'Gradual Drift']['value'], \n",
    "            color='green', label='Gradual Drift')\n",
    "plt.scatter(df[df['anomaly_type'] == 'Sudden Change'].index, \n",
    "            df[df['anomaly_type'] == 'Sudden Change']['value'], \n",
    "            color='purple', label='Sudden Change')\n",
    "plt.scatter(df[df['anomaly_type'] == 'Other Anomaly'].index, \n",
    "            df[df['anomaly_type'] == 'Other Anomaly']['value'], \n",
    "            color='orange', label='Other Anomaly')\n",
    "plt.title('Time Series with Detected Anomalies')\n",
    "plt.xlabel('Timestamp')\n",
    "plt.ylabel('Value')\n",
    "plt.legend()\n",
    "plt.xticks(rotation=45)\n",
    "plt.tight_layout()\n",
    "plt.show()"
   ]
  },
  {
   "cell_type": "markdown",
   "id": "76370476",
   "metadata": {},
   "source": [
    "##### 4.Results: Summary of detected anomalies:"
   ]
  },
  {
   "cell_type": "code",
   "execution_count": 10,
   "id": "e034b179",
   "metadata": {},
   "outputs": [
    {
     "name": "stdout",
     "output_type": "stream",
     "text": [
      "Summary of detected anomalies:\n"
     ]
    },
    {
     "data": {
      "text/plain": [
       "Normal             66483\n",
       "Temporary Spike      360\n",
       "Sudden Change        306\n",
       "Other Anomaly          2\n",
       "Name: anomaly_type, dtype: int64"
      ]
     },
     "metadata": {},
     "output_type": "display_data"
    },
    {
     "name": "stdout",
     "output_type": "stream",
     "text": [
      "Percentage of each anomaly type:\n"
     ]
    },
    {
     "data": {
      "text/plain": [
       "Temporary Spike    53.892216\n",
       "Sudden Change      45.808383\n",
       "Other Anomaly       0.299401\n",
       "Name: anomaly_type, dtype: float64"
      ]
     },
     "metadata": {},
     "output_type": "display_data"
    }
   ],
   "source": [
    "# Print summary of detected anomalies\n",
    "anomaly_summary = df['anomaly_type'].value_counts()\n",
    "print(\"Summary of detected anomalies:\")\n",
    "display(anomaly_summary)\n",
    "\n",
    "# Calculate percentage of each anomaly type\n",
    "total_anomalies = anomaly_summary.sum() - anomaly_summary['Normal']\n",
    "anomaly_percentages = (anomaly_summary / total_anomalies * 100).drop('Normal')\n",
    "print(\"\\\n",
    "Percentage of each anomaly type:\")\n",
    "display(anomaly_percentages)"
   ]
  },
  {
   "cell_type": "code",
   "execution_count": 9,
   "id": "38daa920",
   "metadata": {},
   "outputs": [
    {
     "name": "stdout",
     "output_type": "stream",
     "text": [
      "Precision: 1.0000\n",
      "Recall: 1.0000\n",
      "F1 Score: 1.0000\n",
      "Accuracy: 1.0000\n"
     ]
    },
    {
     "data": {
      "image/png": "[encoded data removed]",
      "text/plain": [
       "<IPython.core.display.Image object>"
      ]
     },
     "execution_count": 9,
     "metadata": {},
     "output_type": "execute_result"
    }
   ],
   "source": [
    "import pandas as pd\n",
    "import numpy as np\n",
    "from sklearn.metrics import precision_score, recall_score, f1_score, accuracy_score\n",
    "from tqdm import tqdm\n",
    "\n",
    "# Load the data (assuming it's still in memory from the previous step)\n",
    "# If not, uncomment the following lines:\n",
    "# data = pd.read_csv('all_data.csv')\n",
    "# data['timestamp'] = pd.to_datetime(data['timestamp'])\n",
    "# data.set_index('timestamp', inplace=True)\n",
    "\n",
    "# Create binary labels (Normal: 0, Anomaly: 1)\n",
    "data['binary_anomaly'] = (data['anomaly_type'] != 'Normal').astype(int)\n",
    "\n",
    "# Calculate metrics\n",
    "precision = precision_score(data['binary_anomaly'], data['anomaly'] == -1)\n",
    "recall = recall_score(data['binary_anomaly'], data['anomaly'] == -1)\n",
    "f1 = f1_score(data['binary_anomaly'], data['anomaly'] == -1)\n",
    "accuracy = accuracy_score(data['binary_anomaly'], data['anomaly'] == -1)\n",
    "\n",
    "print(f\"Precision: {precision:.4f}\")\n",
    "print(f\"Recall: {recall:.4f}\")\n",
    "print(f\"F1 Score: {f1:.4f}\")\n",
    "print(f\"Accuracy: {accuracy:.4f}\")\n",
    "\n",
    "# Calculate confusion matrix\n",
    "from sklearn.metrics import confusion_matrix\n",
    "import matplotlib.pyplot as plt\n",
    "import seaborn as sns\n",
    "\n",
    "cm = confusion_matrix(data['binary_anomaly'], data['anomaly'] == -1)\n",
    "\n",
    "plt.figure(figsize=(8, 6))\n",
    "sns.heatmap(cm, annot=True, fmt='d', cmap='Blues')\n",
    "plt.title('Confusion Matrix')\n",
    "plt.ylabel('True Label')\n",
    "plt.xlabel('Predicted Label')\n",
    "plt.savefig('confusion_matrix.png')\n",
    "plt.close()\n",
    "\n",
    "# Display the confusion matrix\n",
    "from IPython.display import Image\n",
    "Image(filename='confusion_matrix.png')"
   ]
  },
  {
   "cell_type": "code",
   "execution_count": 13,
   "id": "9c54d632",
   "metadata": {},
   "outputs": [],
   "source": [
    "data.to_csv('Final_Output.csv')"
   ]
  },
  {
   "cell_type": "code",
   "execution_count": 12,
   "id": "f8ba6e54",
   "metadata": {},
   "outputs": [
    {
     "data": {
      "text/html": [
       "<div>\n",
       "<style scoped>\n",
       "    .dataframe tbody tr th:only-of-type {\n",
       "        vertical-align: middle;\n",
       "    }\n",
       "\n",
       "    .dataframe tbody tr th {\n",
       "        vertical-align: top;\n",
       "    }\n",
       "\n",
       "    .dataframe thead th {\n",
       "        text-align: right;\n",
       "    }\n",
       "</style>\n",
       "<table border=\"1\" class=\"dataframe\">\n",
       "  <thead>\n",
       "    <tr style=\"text-align: right;\">\n",
       "      <th></th>\n",
       "      <th>value</th>\n",
       "    </tr>\n",
       "    <tr>\n",
       "      <th>timestamp</th>\n",
       "      <th></th>\n",
       "    </tr>\n",
       "  </thead>\n",
       "  <tbody>\n",
       "    <tr>\n",
       "      <th>2014-02-14 14:27:00</th>\n",
       "      <td>51.846</td>\n",
       "    </tr>\n",
       "    <tr>\n",
       "      <th>2014-02-14 14:32:00</th>\n",
       "      <td>44.508</td>\n",
       "    </tr>\n",
       "    <tr>\n",
       "      <th>2014-02-14 14:37:00</th>\n",
       "      <td>41.244</td>\n",
       "    </tr>\n",
       "    <tr>\n",
       "      <th>2014-02-14 14:42:00</th>\n",
       "      <td>48.568</td>\n",
       "    </tr>\n",
       "    <tr>\n",
       "      <th>2014-02-14 14:47:00</th>\n",
       "      <td>46.714</td>\n",
       "    </tr>\n",
       "    <tr>\n",
       "      <th>...</th>\n",
       "      <td>...</td>\n",
       "    </tr>\n",
       "    <tr>\n",
       "      <th>2014-04-24 00:19:00</th>\n",
       "      <td>32.000</td>\n",
       "    </tr>\n",
       "    <tr>\n",
       "      <th>2014-04-24 00:24:00</th>\n",
       "      <td>57.000</td>\n",
       "    </tr>\n",
       "    <tr>\n",
       "      <th>2014-04-24 00:29:00</th>\n",
       "      <td>10.000</td>\n",
       "    </tr>\n",
       "    <tr>\n",
       "      <th>2014-04-24 00:34:00</th>\n",
       "      <td>18.000</td>\n",
       "    </tr>\n",
       "    <tr>\n",
       "      <th>2014-04-24 00:39:00</th>\n",
       "      <td>60.000</td>\n",
       "    </tr>\n",
       "  </tbody>\n",
       "</table>\n",
       "<p>67151 rows × 1 columns</p>\n",
       "</div>"
      ],
      "text/plain": [
       "                      value\n",
       "timestamp                  \n",
       "2014-02-14 14:27:00  51.846\n",
       "2014-02-14 14:32:00  44.508\n",
       "2014-02-14 14:37:00  41.244\n",
       "2014-02-14 14:42:00  48.568\n",
       "2014-02-14 14:47:00  46.714\n",
       "...                     ...\n",
       "2014-04-24 00:19:00  32.000\n",
       "2014-04-24 00:24:00  57.000\n",
       "2014-04-24 00:29:00  10.000\n",
       "2014-04-24 00:34:00  18.000\n",
       "2014-04-24 00:39:00  60.000\n",
       "\n",
       "[67151 rows x 1 columns]"
      ]
     },
     "execution_count": 12,
     "metadata": {},
     "output_type": "execute_result"
    }
   ],
   "source": [
    "df"
   ]
  },
  {
   "cell_type": "markdown",
   "id": "39fd1001",
   "metadata": {},
   "source": [
    "##### Interpretation of results:\n",
    "\n",
    "The model identified a total of 668 anomalies out of 67,151 data points, which is approximately 1% of the data (as set by the contamination parameter in the Isolation Forest).\n",
    "\n",
    "The anomalies were categorized into three main types:\n",
    "\n",
    "Temporary Spikes: 53.89% of anomalies\n",
    "Sudden Changes: 45.81% of anomalies\n",
    "Other Anomalies: 0.30% of anomalies\n",
    "Temporary Spikes are the most common type of anomaly in this dataset, followed closely by Sudden Changes. This suggests that the time series experiences frequent short-term fluctuations and abrupt shifts in values.\n",
    "\n",
    "The \"Other Anomalies\" category represents a very small portion of the detected anomalies. These might be more complex patterns that don't fit into the other categories.\n",
    "\n",
    "From the visualization, we can see that:\n",
    "\n",
    "Red points represent Temporary Spikes\n",
    "Purple points represent Sudden Changes\n",
    "Orange points represent Other Anomalies\n",
    "The plot shows that anomalies are distributed throughout the time series, with some periods having higher concentrations of anomalies than others.\n",
    "\n",
    "This model provides a comprehensive approach to anomaly detection and categorization, allowing for a nuanced understanding of the different types of unusual patterns in the time series data. It can be particularly useful for identifying periods of instability, unexpected changes, or potential issues in the system generating this data."
   ]
  },
  {
   "cell_type": "code",
   "execution_count": null,
   "id": "56523f4e",
   "metadata": {},
   "outputs": [],
   "source": []
  }
 ],
 "metadata": {
  "kernelspec": {
   "display_name": "Python 3 (ipykernel)",
   "language": "python",
   "name": "python3"
  },
  "language_info": {
   "codemirror_mode": {
    "name": "ipython",
    "version": 3
   },
   "file_extension": ".py",
   "mimetype": "text/x-python",
   "name": "python",
   "nbconvert_exporter": "python",
   "pygments_lexer": "ipython3",
   "version": "3.9.7"
  }
 },
 "nbformat": 4,
 "nbformat_minor": 5
}
